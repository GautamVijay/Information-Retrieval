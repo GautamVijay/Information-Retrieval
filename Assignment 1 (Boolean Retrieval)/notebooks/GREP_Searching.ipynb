{
 "cells": [
  {
   "cell_type": "code",
   "execution_count": 2,
   "metadata": {
    "collapsed": false
   },
   "outputs": [],
   "source": [
    "import time\n",
    "from subprocess import Popen, PIPE"
   ]
  },
  {
   "cell_type": "code",
   "execution_count": 3,
   "metadata": {
    "collapsed": false
   },
   "outputs": [
    {
     "name": "stdout",
     "output_type": "stream",
     "text": [
      "495\n",
      "1\n",
      "72\n",
      "1\n",
      "476\n",
      "46\n",
      "179\n",
      "11\n",
      "17\n",
      "28\n",
      "1\n",
      "16\n",
      "65\n",
      "2\n",
      "38\n",
      "108\n",
      "3\n",
      "19\n",
      "40\n",
      "2\n",
      "2\n",
      "65\n",
      "3\n",
      "1\n",
      "23\n",
      "7\n",
      "30\n",
      "431\n",
      "1\n",
      "3\n",
      "16\n",
      "203\n",
      "3\n",
      "1\n",
      "2\n",
      "113\n",
      "42\n",
      "1\n",
      "715\n",
      "1\n",
      "1\n",
      "39\n",
      "1\n",
      "35\n",
      "10\n",
      "36\n",
      "57\n",
      "463\n",
      "29\n",
      "1\n",
      "6\n",
      "115\n",
      "44\n",
      "1\n",
      "1\n",
      "1\n",
      "15\n",
      "1\n",
      "9\n",
      "1\n",
      "20\n",
      "1\n",
      "139\n",
      "14\n",
      "1\n",
      "44\n",
      "39\n",
      "2\n",
      "1\n",
      "82\n",
      "1\n",
      "4\n",
      "1\n",
      "78\n",
      "1\n",
      "1\n",
      "2\n",
      "2503\n",
      "18\n",
      "2\n",
      "14\n",
      "1\n"
     ]
    }
   ],
   "source": [
    "Query = open('query.txt','r')\n",
    "\n",
    "for lines in Query :\n",
    "    final_set = set()\n",
    "    Start = time.time()\n",
    "    query_id = lines[0:3]\n",
    "    lines = lines[4:]\n",
    "    words = lines.split(' ')\n",
    "    final_set = set()\n",
    "    count = 0\n",
    "    \n",
    "    for word in words:\n",
    "        process=Popen([\"grep\",'-lr',word,'alldocs'],stdout=PIPE)\n",
    "        s=str(process.stdout.read())\n",
    "        temp=s.split(\"\\n\")\n",
    "        if count == 0:\n",
    "            final_set=set(temp)\n",
    "            count = 1\n",
    "        else:\n",
    "            final_set = final_set & set(temp)\n",
    "    final_answer = list(final_set)\n",
    "    print len(final_answer)\n",
    "    \n",
    "    file = open('output_grep.txt','a')\n",
    "    for answers in final_answer :\n",
    "        if answers == \"\":\n",
    "            continue\n",
    "        file.write(str(query_id)+\"  \"+str(answers.split(\"/\")[-1])+\"\\n\")\n",
    "    file.close()\n",
    "    \n",
    "    file = open('Time_grep.txt','a')\n",
    "    file.write(str(query_id)+\"  \"+str(time.time()-Start)+\"\\n\")\n",
    "    file.close()"
   ]
  },
  {
   "cell_type": "code",
   "execution_count": null,
   "metadata": {
    "collapsed": true
   },
   "outputs": [],
   "source": []
  }
 ],
 "metadata": {
  "kernelspec": {
   "display_name": "Python 2",
   "language": "python",
   "name": "python2"
  },
  "language_info": {
   "codemirror_mode": {
    "name": "ipython",
    "version": 2
   },
   "file_extension": ".py",
   "mimetype": "text/x-python",
   "name": "python",
   "nbconvert_exporter": "python",
   "pygments_lexer": "ipython2",
   "version": "2.7.11"
  }
 },
 "nbformat": 4,
 "nbformat_minor": 0
}
