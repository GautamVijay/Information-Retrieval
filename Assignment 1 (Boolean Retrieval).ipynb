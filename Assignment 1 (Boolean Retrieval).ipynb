{
 "cells": [
  {
   "cell_type": "code",
   "execution_count": 4,
   "metadata": {
    "collapsed": false
   },
   "outputs": [],
   "source": [
    "import os\n",
    "import sys\n",
    "import re\n",
    "import nltk\n",
    "import operator\n",
    "import pickle as pkl\n",
    "import progressbar\n",
    "import time"
   ]
  },
  {
   "cell_type": "code",
   "execution_count": 56,
   "metadata": {
    "collapsed": true
   },
   "outputs": [],
   "source": [
    "def tokenizer(text):\n",
    "    text = re.sub(\"[^a-zA-Z]+\", \" \", text)\n",
    "    tokens = nltk.tokenize.word_tokenize(text)\n",
    "    return tokens        \n",
    "\n",
    "def preprocessing_txt(text):\n",
    "    \n",
    "    tokens = tokenizer(text)\n",
    "    stemmer = nltk.stem.porter.PorterStemmer()\n",
    "    stopwords = nltk.corpus.stopwords.words('english')\n",
    "    new_text = \"\"\n",
    "    for token in tokens:\n",
    "        token = token.lower()\n",
    "        if token not in stopwords:\n",
    "#             print token\n",
    "            new_text += stemmer.stem(token)\n",
    "            new_text += \" \"\n",
    "        \n",
    "    return new_text"
   ]
  },
  {
   "cell_type": "code",
   "execution_count": 102,
   "metadata": {
    "collapsed": true
   },
   "outputs": [],
   "source": [
    "def inverted_index():\n",
    "    \"\"\"\n",
    "    Creates a dictionary of words as key and name of the documents as items\n",
    "    \"\"\"\n",
    "    inverted = {}\n",
    "    docs_indexed = 0\n",
    "    list_doc = os.listdir(\"./alldocs\")\n",
    "    total = len(list_doc)\n",
    "    point = total / 100\n",
    "    increment = total / 100\n",
    "    indexer = {}\n",
    "    for doc in list_doc:\n",
    "#         sys.stdout.write('\\r')\n",
    "        doc_loc = \"./alldocs/\" + str(doc)\n",
    "        file_doc = open(doc_loc, \"r\")\n",
    "        file_doc = preprocessing_txt(file_doc.read())\n",
    "        tokens = tokenizer(file_doc)\n",
    "        for word in tokens:\n",
    "            if not inverted.__contains__(word):\n",
    "                count = 1\n",
    "                doclist = {}\n",
    "                doclist[doc] = 1\n",
    "                inverted[word] = doclist\n",
    "            else:\n",
    "                if doc in inverted[word]:\n",
    "                    doclist = inverted[word]\n",
    "                    doclist[doc] += 1\n",
    "                    inverted[word] = doclist\n",
    "                else:\n",
    "                    count = 1\n",
    "                    doclist = inverted[word]\n",
    "                    doclist[doc] = count\n",
    "                    inverted[word] = doclist\n",
    "                    \n",
    "        docs_indexed += 1\n",
    "        i = docs_indexed\n",
    "        if(i % (point) == 0):\n",
    "            sys.stdout.write(\"\\r[\" + \"=\" * (i / increment) + \">\" +  \" \" * ((total - i)/ increment) + \"]\" +  str(100*i / float(len(list_doc))) + \"%\")\n",
    "            sys.stdout.flush()\n",
    "    return inverted\n",
    "                \n",
    "                \n",
    "                \n",
    "        \n",
    "        \n",
    "        \n",
    "        "
   ]
  },
  {
   "cell_type": "code",
   "execution_count": 103,
   "metadata": {
    "collapsed": false
   },
   "outputs": [
    {
     "name": "stdout",
     "output_type": "stream",
     "text": [
      "[=====================================================================================================>]99.7804610318%"
     ]
    }
   ],
   "source": [
    "if __name__ == \"__main__\":\n",
    "    indexed_docs = inverted_index()\n",
    "    with open(\"indexed_docs\",\"wb\") as handle:\n",
    "        pkl.dump(indexed_docs, handle)\n"
   ]
  },
  {
   "cell_type": "code",
   "execution_count": 104,
   "metadata": {
    "collapsed": false
   },
   "outputs": [
    {
     "name": "stdout",
     "output_type": "stream",
     "text": [
      "Assignment 1 (Boolean Retrieval).ipynb indexed_docs\r\n",
      "\u001b[31mREADME.md\u001b[m\u001b[m                              indexed_docs.p\r\n",
      "\u001b[34malldocs\u001b[m\u001b[m                                query.txt\r\n",
      "filename.pickle                        \u001b[31msearch.py\u001b[m\u001b[m\r\n",
      "\u001b[31mindex.py\u001b[m\u001b[m\r\n"
     ]
    }
   ],
   "source": [
    "dictionary = "
   ]
  },
  {
   "cell_type": "code",
   "execution_count": 1,
   "metadata": {
    "collapsed": true
   },
   "outputs": [],
   "source": [
    "import elasticsearch"
   ]
  },
  {
   "cell_type": "code",
   "execution_count": 5,
   "metadata": {
    "collapsed": false
   },
   "outputs": [],
   "source": [
    "# es = elasticsearch.Elasticsearch()\n",
    "# es.index(index='posts', doc_type='blog', id=1, body={\n",
    "#     'author': 'Santa Clause',\n",
    "#     'blog': 'Slave Based Shippers of the North',\n",
    "#     'title': 'Using Celery for distributing gift dispatch',\n",
    "#     'topics': ['slave labor', 'elves', 'python',\n",
    "#                'celery', 'antigravity reindeer'],\n",
    "#     'awesomeness': 0.2\n",
    "# })"
   ]
  },
  {
   "cell_type": "code",
   "execution_count": null,
   "metadata": {
    "collapsed": true
   },
   "outputs": [],
   "source": [
    "\n"
   ]
  }
 ],
 "metadata": {
  "kernelspec": {
   "display_name": "Python 2",
   "language": "python",
   "name": "python2"
  },
  "language_info": {
   "codemirror_mode": {
    "name": "ipython",
    "version": 2
   },
   "file_extension": ".py",
   "mimetype": "text/x-python",
   "name": "python",
   "nbconvert_exporter": "python",
   "pygments_lexer": "ipython2",
   "version": "2.7.11"
  }
 },
 "nbformat": 4,
 "nbformat_minor": 0
}
